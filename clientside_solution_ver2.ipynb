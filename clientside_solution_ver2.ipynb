{
  "nbformat": 4,
  "nbformat_minor": 0,
  "metadata": {
    "colab": {
      "name": "clientside-solution-ver2.ipynb",
      "provenance": [],
      "authorship_tag": "ABX9TyMHMv5EQ08/fEYqqAXSDVMK",
      "include_colab_link": true
    },
    "kernelspec": {
      "name": "python3",
      "display_name": "Python 3"
    },
    "language_info": {
      "name": "python"
    }
  },
  "cells": [
    {
      "cell_type": "markdown",
      "metadata": {
        "id": "view-in-github",
        "colab_type": "text"
      },
      "source": [
        "<a href=\"https://colab.research.google.com/github/ilhamije/multisensorHAR/blob/main/clientside_solution_ver2.ipynb\" target=\"_parent\"><img src=\"https://colab.research.google.com/assets/colab-badge.svg\" alt=\"Open In Colab\"/></a>"
      ]
    },
    {
      "cell_type": "code",
      "metadata": {
        "colab": {
          "base_uri": "https://localhost:8080/"
        },
        "id": "mvxfmBWop_-z",
        "outputId": "baf21049-5e15-4062-dd97-5c5f12eebb06"
      },
      "source": [
        "import tensorflow as tf\n",
        "from tensorflow.keras import Sequential\n",
        "from tensorflow.keras.layers import Flatten, Dense, Dropout, BatchNormalization\n",
        "from tensorflow.keras.layers import Conv1D, MaxPooling1D\n",
        "from tensorflow.keras.optimizers import Adam\n",
        "from tensorflow.keras.utils import to_categorical\n",
        "print(tf.__version__)"
      ],
      "execution_count": 1,
      "outputs": [
        {
          "output_type": "stream",
          "name": "stdout",
          "text": [
            "2.6.0\n"
          ]
        }
      ]
    },
    {
      "cell_type": "code",
      "metadata": {
        "id": "vc0UJgDCqNhg"
      },
      "source": [
        "import pandas as pd\n",
        "import numpy as np\n",
        "import matplotlib.pyplot as plt\n",
        "from sklearn.model_selection import train_test_split\n",
        "from sklearn.preprocessing import StandardScaler, LabelEncoder\n",
        "from tqdm import tqdm"
      ],
      "execution_count": 2,
      "outputs": []
    },
    {
      "cell_type": "code",
      "metadata": {
        "colab": {
          "base_uri": "https://localhost:8080/"
        },
        "id": "1BrV1BWHt-lB",
        "outputId": "b74b1b21-8c77-461d-8897-e298d09448f1"
      },
      "source": [
        "from google.colab import drive\n",
        "drive.mount('/content/drive')"
      ],
      "execution_count": 3,
      "outputs": [
        {
          "output_type": "stream",
          "name": "stdout",
          "text": [
            "Mounted at /content/drive\n"
          ]
        }
      ]
    },
    {
      "cell_type": "markdown",
      "metadata": {
        "id": "9jxlRzRfq20R"
      },
      "source": [
        "`# Make sure the notebook has tensorflow-federated (Do it once)`\n",
        "`!pip install --upgrade tensorflow-federated # comment out after installation `"
      ]
    },
    {
      "cell_type": "code",
      "metadata": {
        "id": "xsJW05aYq8Ta"
      },
      "source": [
        "def load_dataset(subject_id=3):\n",
        "    df = pd.read_csv('drive/MyDrive/Colab Notebooks/assessment-hankuk/train_{}.csv'\\\n",
        "                     .format(subject_id))\n",
        "\n",
        "    trainy = df['label']\n",
        "    df_X = df.drop(['subject', 'label'], axis=1)\n",
        "\n",
        "    loaded = list()\n",
        "    loaded.append(df_X.values)\n",
        "    trainX = np.dstack(loaded)\n",
        "    trainy = to_categorical(trainy)\n",
        "\n",
        "    return trainX, trainy"
      ],
      "execution_count": 4,
      "outputs": []
    },
    {
      "cell_type": "code",
      "metadata": {
        "id": "9Q-6gv5Oum0m"
      },
      "source": [
        "# Fit and evaluate a model\n",
        "def evaluate_model(trainX, trainy):\n",
        "    # set epochs and batch_size to 1 each due to its purpose solely as example and limiting resource\n",
        "    # set verbose to 1 to see training progress\n",
        "    verbose, epochs, batch_size = 1, 1, 1\n",
        "\n",
        "    n_timesteps, n_features, n_outputs = trainX.shape[1], trainX.shape[2], trainy.shape[1]\n",
        "    model = Sequential()\n",
        "    model.add(Conv1D(filters=64, kernel_size=3, activation='relu', input_shape=(n_timesteps,n_features)))\n",
        "    model.add(Conv1D(filters=64, kernel_size=3, activation='relu'))\n",
        "    model.add(Dropout(0.5))\n",
        "    model.add(MaxPooling1D(pool_size=2))\n",
        "    model.add(Flatten())\n",
        "    model.add(Dense(100, activation='relu'))\n",
        "    model.add(Dense(n_outputs, activation='softmax'))\n",
        "    \n",
        "    # Set precision and recall to calculate F1 score\n",
        "    precision = tf.keras.metrics.Precision(name='precision')\n",
        "    recall = tf.keras.metrics.Recall(name='recall')\n",
        "    \n",
        "    model.compile(loss='categorical_crossentropy', optimizer='adam', metrics=['accuracy', precision, recall])\n",
        "    \n",
        "    # fit network\n",
        "    history = model.fit(trainX, trainy, epochs=epochs, batch_size=batch_size, verbose=verbose)\n",
        "\n",
        "    # get evaluation metrics\n",
        "    accuracy = history.history['accuracy'][epochs-1]\n",
        "    precision = history.history['precision'][epochs-1]\n",
        "    recall = history.history['recall'][epochs-1]\n",
        "    \n",
        "    return accuracy, precision, recall, history"
      ],
      "execution_count": 5,
      "outputs": []
    },
    {
      "cell_type": "code",
      "metadata": {
        "id": "v2Zg3h5LvkyK"
      },
      "source": [
        "# def plot_learningCurve(history, epochs):\n",
        "#     # Plot training & validation accuracy values\n",
        "#     epoch_range = range(1, epochs+1)\n",
        "#     plt.plot(epoch_range, history.history['accuracy'])\n",
        "#     plt.plot(epoch_range, history.history['val_accuracy'])\n",
        "#     plt.title('Model accuracy')\n",
        "#     plt.ylabel('Accuracy')\n",
        "#     plt.xlabel('Epoch')\n",
        "#     plt.legend(['Train', 'Val'], loc='upper left')\n",
        "#     plt.show()\n",
        "\n",
        "#     # Plot training & validation loss values\n",
        "#     plt.plot(epoch_range, history.history['loss'])\n",
        "#     plt.plot(epoch_range, history.history['val_loss'])\n",
        "#     plt.title('Model loss')\n",
        "#     plt.ylabel('Loss')\n",
        "#     plt.xlabel('Epoch')\n",
        "#     plt.legend(['Train', 'Val'], loc='upper left')\n",
        "#     plt.show()"
      ],
      "execution_count": null,
      "outputs": []
    },
    {
      "cell_type": "code",
      "metadata": {
        "id": "N5d2Tx73uoMb"
      },
      "source": [
        "# summarize scores\n",
        "def summarize_results(scores, f1):\n",
        "    m, s = np.mean(scores), np.std(scores)\n",
        "    m2, s2 = np.mean(f1), np.std(f1)\n",
        "    print('Accuracy: %.3f%% (+/-%.3f), F1 score: %.3f%% (+/-%.3f)' % (m, s, m2, s2))\n"
      ],
      "execution_count": 6,
      "outputs": []
    },
    {
      "cell_type": "code",
      "metadata": {
        "id": "6xCF3hgmusMJ"
      },
      "source": [
        "# run an experiment\n",
        "def run_experiment(repeats=1):\n",
        "    # load data\n",
        "    trainX, trainy = load_dataset()\n",
        "\n",
        "    # repeat experiment\n",
        "    accuracies = list()\n",
        "    f1s = list()\n",
        "    for r in range(repeats):\n",
        "        accuracy, precision, recall, history = evaluate_model(trainX, trainy)\n",
        "        accuracy = accuracy * 100.0\n",
        "        f1_score = (2.0*((precision * recall)/(precision + recall))) * 100.0\n",
        "        print('> Iteration #{:3d}: {:.3f}, F1: {:.3f}'.format(r+1, accuracy, f1_score))\n",
        "        accuracies.append(accuracy)\n",
        "        f1s.append(f1_score)\n",
        "        \n",
        "    # summarize results\n",
        "    summarize_results(accuracies, f1s)"
      ],
      "execution_count": 7,
      "outputs": []
    },
    {
      "cell_type": "code",
      "metadata": {
        "id": "_Wx6fPnJvkkE"
      },
      "source": [
        "df = pd.read_csv('drive/MyDrive/Colab-Notebooks/assessment-hankuk/train.csv')\n",
        "subject_number = list(df['subject'].unique())"
      ],
      "execution_count": 9,
      "outputs": []
    },
    {
      "cell_type": "code",
      "metadata": {
        "colab": {
          "base_uri": "https://localhost:8080/"
        },
        "id": "cUcUgN5DuxEl",
        "outputId": "4f158435-d7c8-4765-ace8-bc6a414fd085"
      },
      "source": [
        "run_experiment()"
      ],
      "execution_count": null,
      "outputs": [
        {
          "output_type": "stream",
          "name": "stdout",
          "text": [
            "41984/41984 [==============================] - 87s 2ms/step - loss: 0.4950 - accuracy: 0.7944 - precision: 0.8586 - recall: 0.7273\n",
            "> Iteration #  1: 79.437, F1: 78.755\n",
            "Accuracy: 79.437% (+/-0.000), F1 score: 78.755% (+/-0.000)\n"
          ]
        }
      ]
    },
    {
      "cell_type": "code",
      "metadata": {
        "id": "galzWqwI_bB-"
      },
      "source": [
        ""
      ],
      "execution_count": null,
      "outputs": []
    }
  ]
}